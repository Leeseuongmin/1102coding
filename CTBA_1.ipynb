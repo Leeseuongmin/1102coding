{
  "nbformat": 4,
  "nbformat_minor": 0,
  "metadata": {
    "colab": {
      "provenance": [],
      "authorship_tag": "ABX9TyPMmRJCrsotjWyWhPYKH1RW",
      "include_colab_link": true
    },
    "kernelspec": {
      "name": "python3",
      "display_name": "Python 3"
    },
    "language_info": {
      "name": "python"
    }
  },
  "cells": [
    {
      "cell_type": "markdown",
      "metadata": {
        "id": "view-in-github",
        "colab_type": "text"
      },
      "source": [
        "<a href=\"https://colab.research.google.com/github/Leeseuongmin/1102coding/blob/main/CTBA_1.ipynb\" target=\"_parent\"><img src=\"https://colab.research.google.com/assets/colab-badge.svg\" alt=\"Open In Colab\"/></a>"
      ]
    },
    {
      "cell_type": "markdown",
      "source": [
        "1. 쇼핑물의 배송율를 작성하는 코드 작성\n",
        "\n",
        "- 사용자는 변수: price, shipping_cost"
      ],
      "metadata": {
        "id": "7hvFDYj9bRrL"
      }
    },
    {
      "cell_type": "code",
      "source": [
        "print(\"상품의 가격을 입력하시오.\");\n",
        "price = int(input(\"구입금액을 입력.: \"));\n",
        "if price > 20000:\n",
        "  shipping_cost = 0\n",
        "  print(f'구입금액이 2만원 이상입니다.')\n",
        "else:\n",
        " shipping_cost = 3000\n",
        " print(f'구입금액이 2만원 이하입니다.')\n",
        " print(f'회원님의 배송비는 {shipping_cost}원 입니다.')"
      ],
      "metadata": {
        "colab": {
          "base_uri": "https://localhost:8080/"
        },
        "id": "LkxVB1EGc3MC",
        "outputId": "bd5f1acf-22e8-46bf-b653-08201de68fe4"
      },
      "execution_count": 4,
      "outputs": [
        {
          "output_type": "stream",
          "name": "stdout",
          "text": [
            "상품의 가격을 입력하시오.\n",
            "구입금액을 입력.: 20000\n",
            "구입금액이 2만원 이하입니다.\n",
            "회원님의 배송비는 3000원 입니다.\n"
          ]
        }
      ]
    },
    {
      "cell_type": "markdown",
      "source": [
        "2. 학생으로 성적을 입력받아 합격유무를 입력하는 코드\n",
        "\n",
        "- 상용변수: grade"
      ],
      "metadata": {
        "id": "tqYCZLHLgu4p"
      }
    },
    {
      "cell_type": "code",
      "source": [
        "print(\"성적을 입력하시오.\")\n",
        "grade = int(input(\"성적입력.: \"))\n",
        "if grade >= 70:\n",
        "  print(f'70점을 이상이므로 합격입니다.')\n",
        "  print(\"축하합니다, 합격입니다.\")\n",
        "else:\n",
        "  print(f'70점 이하이므로 불합격입니다.')\n",
        "  print(\"아쉽군요, 다시한번 도전하시오\")"
      ],
      "metadata": {
        "colab": {
          "base_uri": "https://localhost:8080/"
        },
        "id": "NQD-Ebm0hGp_",
        "outputId": "a350d426-c566-46d5-88e3-66d7281b1770"
      },
      "execution_count": 13,
      "outputs": [
        {
          "output_type": "stream",
          "name": "stdout",
          "text": [
            "성적을 입력하시오.\n",
            "성적입력.: 70\n",
            "70점을 이상이므로 합격입니다.\n",
            "축하합니다, 합격입니다.\n"
          ]
        }
      ]
    },
    {
      "cell_type": "markdown",
      "source": [
        "3. 근무시간에 따라 초과근무와 정상근무를 판별하는 코드\n",
        "- work_hour\n",
        "- 코드 work_hour > 72\n"
      ],
      "metadata": {
        "id": "en31rPUeiSk5"
      }
    },
    {
      "cell_type": "code",
      "source": [
        "print(\"근무시간을 입력하시오.\")\n",
        "work_hour = int(input(\"근무시간 입력: \"))\n",
        "if work_hour >= 72:\n",
        "  print(\"―\"*9 )\n",
        "  print(f'|초과근무입니다. |')\n",
        "  print(\"―\"*9 )\n",
        "else:\n",
        "  print(\"#\"*9 )\n",
        "  print(f'정상근무입니다. #')\n",
        "  print(\"#\"*9 )"
      ],
      "metadata": {
        "colab": {
          "base_uri": "https://localhost:8080/"
        },
        "id": "ly-Q9P5viwf4",
        "outputId": "36e10de6-16db-4ba6-8d80-21c8599ec667"
      },
      "execution_count": 16,
      "outputs": [
        {
          "output_type": "stream",
          "name": "stdout",
          "text": [
            "근무시간을 입력하시오.\n",
            "근무시간 입력: 73\n",
            "―――――――――\n",
            "|초과근무입니다. |\n",
            "―――――――――\n"
          ]
        }
      ]
    },
    {
      "cell_type": "markdown",
      "source": [
        "4. 짝수와 홀수를 판별하는 코드\n",
        " - 상용변수 : _num_\n",
        " - 수식 : (X%2) !=0:"
      ],
      "metadata": {
        "id": "dZFDTvqMl51f"
      }
    },
    {
      "cell_type": "code",
      "source": [
        "print(\"정수를 입력하시오.\")\n",
        "_num_ = int(input(\"정수 입력: \"))\n",
        "if (_num_ %2) != 0:\n",
        "  print(f'입력하신 {_num_}은 홀수입니다. ')\n",
        "else:\n",
        "  print(f'입력하신 {_num_}은 짝수입니다. ')"
      ],
      "metadata": {
        "colab": {
          "base_uri": "https://localhost:8080/"
        },
        "id": "FY4IPeVTmea2",
        "outputId": "0a4ee462-1f2b-4c30-e0c7-366fb90fa2a3"
      },
      "execution_count": 17,
      "outputs": [
        {
          "output_type": "stream",
          "name": "stdout",
          "text": [
            "정수를 입력하시오.\n",
            "정수 입력: 2\n",
            "입력하신 2은 짝수입니다. \n"
          ]
        }
      ]
    },
    {
      "cell_type": "markdown",
      "source": [
        "5. 사용자의 이름과 나이를 물어보고, 답변하는 코드\n",
        " - 사용변수: name, age\n",
        " - 출력할 내용 :\n",
        "   - 설명\n",
        "   - 나이 :20\n",
        "   -(1) 20이하: 프로그래밍을 배우는 최적의 나이입니다.\n",
        "   -(2) 20이상: 아직도 늦지 않았습니다."
      ],
      "metadata": {
        "id": "Tr0HIrxangM_"
      }
    },
    {
      "cell_type": "code",
      "source": [
        "print(\"프로그래밍을 입력하시오.\")\n",
        "name = int(input(\"이승민.: \"))\n",
        "age = int(input(\"프로그래밍입력.: \"))\n",
        "if age >= 20:\n",
        "  print(f'20살 이하이므로 프로그래밍을 배우는 최적의 나이입니다.')\n",
        "  print(\"축하합니다, 얼른 시작하세요.\")\n",
        "else:\n",
        "  print(f'20살 이상이므로 아직도 늦지 않았습니다.')\n",
        "  print(\"빨리 시작하세요. \")"
      ],
      "metadata": {
        "colab": {
          "base_uri": "https://localhost:8080/"
        },
        "id": "V2dqDZuhoR2d",
        "outputId": "68ebe26a-cff0-4ef2-d6a4-c5ba785095a5"
      },
      "execution_count": 20,
      "outputs": [
        {
          "output_type": "stream",
          "name": "stdout",
          "text": [
            "프로그래밍을 입력하시오.\n",
            "이승민.: 20\n",
            "프로그래밍입력.: 20\n",
            "20살 이하이므로 프로그래밍을 배우는 최적의 나이입니다.\n",
            "축하합니다, 얼른 시작하세요.\n"
          ]
        }
      ]
    }
  ]
}